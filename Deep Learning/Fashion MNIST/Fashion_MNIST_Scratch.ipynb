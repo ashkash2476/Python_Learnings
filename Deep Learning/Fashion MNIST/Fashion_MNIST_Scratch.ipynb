{
  "nbformat": 4,
  "nbformat_minor": 0,
  "metadata": {
    "colab": {
      "name": "Fashion MNIST_Scratch.ipynb",
      "provenance": [],
      "collapsed_sections": []
    },
    "kernelspec": {
      "name": "python3",
      "display_name": "Python 3"
    },
    "accelerator": "GPU"
  },
  "cells": [
    {
      "cell_type": "code",
      "metadata": {
        "id": "e0hoRm13Qevh"
      },
      "source": [
        "import tensorflow as tf"
      ],
      "execution_count": 2,
      "outputs": []
    },
    {
      "cell_type": "code",
      "metadata": {
        "id": "epPmH41tRUZJ"
      },
      "source": [
        "import numpy as np\r\n",
        "import matplotlib.pyplot as plt\r\n",
        "from tensorflow.keras.layers import Input, Conv2D, Dense, Flatten, Dropout\r\n",
        "from tensorflow.keras.models import Model"
      ],
      "execution_count": 3,
      "outputs": []
    },
    {
      "cell_type": "code",
      "metadata": {
        "colab": {
          "base_uri": "https://localhost:8080/"
        },
        "id": "wzSrcI2uRzTn",
        "outputId": "e3040b75-971f-4bc8-ca61-9e19270a737e"
      },
      "source": [
        "# Loading the data\r\n",
        "fashion_mnist = tf.keras.datasets.fashion_mnist\r\n",
        "\r\n",
        "(x_train,y_train), (x_test,y_test)= fashion_mnist.load_data()\r\n",
        "x_train, x_test = x_train/255.0, x_test/255.0\r\n",
        "print(\"x Train Shape:\", x_train.shape)\r\n"
      ],
      "execution_count": 4,
      "outputs": [
        {
          "output_type": "stream",
          "text": [
            "Downloading data from https://storage.googleapis.com/tensorflow/tf-keras-datasets/train-labels-idx1-ubyte.gz\n",
            "32768/29515 [=================================] - 0s 0us/step\n",
            "Downloading data from https://storage.googleapis.com/tensorflow/tf-keras-datasets/train-images-idx3-ubyte.gz\n",
            "26427392/26421880 [==============================] - 0s 0us/step\n",
            "Downloading data from https://storage.googleapis.com/tensorflow/tf-keras-datasets/t10k-labels-idx1-ubyte.gz\n",
            "8192/5148 [===============================================] - 0s 0us/step\n",
            "Downloading data from https://storage.googleapis.com/tensorflow/tf-keras-datasets/t10k-images-idx3-ubyte.gz\n",
            "4423680/4422102 [==============================] - 0s 0us/step\n",
            "x Train Shape: (60000, 28, 28)\n"
          ],
          "name": "stdout"
        }
      ]
    },
    {
      "cell_type": "code",
      "metadata": {
        "id": "psERZxcgRzWU",
        "colab": {
          "base_uri": "https://localhost:8080/"
        },
        "outputId": "ec487433-fecc-4c1d-b5e2-154e4c15b72e"
      },
      "source": [
        "# the data is only 2d\r\n",
        "# convolution expects height x width x color\r\n",
        "x_train= np.expand_dims(x_train,-1)\r\n",
        "x_test = np.expand_dims(x_test,-1)\r\n",
        "print(x_train.shape)"
      ],
      "execution_count": 5,
      "outputs": [
        {
          "output_type": "stream",
          "text": [
            "(60000, 28, 28, 1)\n"
          ],
          "name": "stdout"
        }
      ]
    },
    {
      "cell_type": "code",
      "metadata": {
        "id": "Rr8_JCyBRzYu",
        "colab": {
          "base_uri": "https://localhost:8080/"
        },
        "outputId": "645df10c-aa6d-47bc-b8dd-ffd43853d26f"
      },
      "source": [
        "#number of classes\r\n",
        "K= len(set(y_train))\r\n",
        "print(\"number of classes:\", K)"
      ],
      "execution_count": 6,
      "outputs": [
        {
          "output_type": "stream",
          "text": [
            "number of classes: 10\n"
          ],
          "name": "stdout"
        }
      ]
    },
    {
      "cell_type": "code",
      "metadata": {
        "id": "p1f5xLjTRUb6"
      },
      "source": [
        "#Build the model using the functional API\r\n",
        "i=Input(shape=x_train[0].shape)\r\n",
        "\r\n",
        "x=Conv2D(32, (3,3), strides=2,activation= 'relu')(i)\r\n",
        "\r\n",
        "x=Conv2D(64,(3,3), strides=2,activation= 'relu')(x)\r\n",
        "x=Conv2D(128,(3,3), strides=2,activation= 'relu')(x)\r\n",
        "x=Flatten()(x)\r\n",
        "x= Dropout(0.2)(x)\r\n",
        "x= Dense(512, activation = 'relu')(x)\r\n",
        "x= Dropout(0.2)(x)\r\n",
        "x= Dense(K, activation ='softmax')(x)\r\n",
        "\r\n",
        "model = Model(i,x)"
      ],
      "execution_count": 7,
      "outputs": []
    },
    {
      "cell_type": "code",
      "metadata": {
        "id": "lIt5LmijRUeV",
        "colab": {
          "base_uri": "https://localhost:8080/"
        },
        "outputId": "003f4ee3-cd04-42c4-f614-d8fdf653b510"
      },
      "source": [
        "# Compile and fit\r\n",
        "# Note: make sure you are using GPU\r\n",
        "\r\n",
        "model.compile(optimizer='adam',\r\n",
        "              loss='sparse_categorical_crossentropy',\r\n",
        "              metrics=['accuracy'])\r\n",
        "\r\n",
        "r= model.fit(x_train, y_train, validation_data=(x_test, y_test), epochs=15)"
      ],
      "execution_count": 8,
      "outputs": [
        {
          "output_type": "stream",
          "text": [
            "Epoch 1/15\n",
            "1875/1875 [==============================] - 13s 3ms/step - loss: 0.6889 - accuracy: 0.7486 - val_loss: 0.4084 - val_accuracy: 0.8402\n",
            "Epoch 2/15\n",
            "1875/1875 [==============================] - 5s 3ms/step - loss: 0.3726 - accuracy: 0.8614 - val_loss: 0.3561 - val_accuracy: 0.8680\n",
            "Epoch 3/15\n",
            "1875/1875 [==============================] - 5s 3ms/step - loss: 0.3168 - accuracy: 0.8824 - val_loss: 0.3130 - val_accuracy: 0.8851\n",
            "Epoch 4/15\n",
            "1875/1875 [==============================] - 6s 3ms/step - loss: 0.2774 - accuracy: 0.8965 - val_loss: 0.3050 - val_accuracy: 0.8876\n",
            "Epoch 5/15\n",
            "1875/1875 [==============================] - 5s 3ms/step - loss: 0.2493 - accuracy: 0.9064 - val_loss: 0.3144 - val_accuracy: 0.8852\n",
            "Epoch 6/15\n",
            "1875/1875 [==============================] - 5s 3ms/step - loss: 0.2264 - accuracy: 0.9133 - val_loss: 0.2978 - val_accuracy: 0.8920\n",
            "Epoch 7/15\n",
            "1875/1875 [==============================] - 5s 3ms/step - loss: 0.2048 - accuracy: 0.9210 - val_loss: 0.3062 - val_accuracy: 0.8961\n",
            "Epoch 8/15\n",
            "1875/1875 [==============================] - 5s 3ms/step - loss: 0.1885 - accuracy: 0.9269 - val_loss: 0.2905 - val_accuracy: 0.9014\n",
            "Epoch 9/15\n",
            "1875/1875 [==============================] - 5s 3ms/step - loss: 0.1763 - accuracy: 0.9334 - val_loss: 0.3112 - val_accuracy: 0.8936\n",
            "Epoch 10/15\n",
            "1875/1875 [==============================] - 5s 3ms/step - loss: 0.1609 - accuracy: 0.9380 - val_loss: 0.3170 - val_accuracy: 0.8944\n",
            "Epoch 11/15\n",
            "1875/1875 [==============================] - 5s 3ms/step - loss: 0.1540 - accuracy: 0.9397 - val_loss: 0.3176 - val_accuracy: 0.9009\n",
            "Epoch 12/15\n",
            "1875/1875 [==============================] - 5s 3ms/step - loss: 0.1444 - accuracy: 0.9451 - val_loss: 0.3287 - val_accuracy: 0.9002\n",
            "Epoch 13/15\n",
            "1875/1875 [==============================] - 5s 3ms/step - loss: 0.1346 - accuracy: 0.9485 - val_loss: 0.3532 - val_accuracy: 0.9009\n",
            "Epoch 14/15\n",
            "1875/1875 [==============================] - 5s 3ms/step - loss: 0.1269 - accuracy: 0.9501 - val_loss: 0.3464 - val_accuracy: 0.9009\n",
            "Epoch 15/15\n",
            "1875/1875 [==============================] - 5s 3ms/step - loss: 0.1215 - accuracy: 0.9526 - val_loss: 0.3668 - val_accuracy: 0.8987\n"
          ],
          "name": "stdout"
        }
      ]
    },
    {
      "cell_type": "code",
      "metadata": {
        "colab": {
          "base_uri": "https://localhost:8080/",
          "height": 282
        },
        "id": "TwSbuzznhgWU",
        "outputId": "8f99a7d6-07a8-4eb6-d004-95cb2cc9c057"
      },
      "source": [
        "#plot loss per iteration\r\n",
        "\r\n",
        "import matplotlib.pyplot as plt\r\n",
        "plt.plot(r.history['loss'],label='loss')\r\n",
        "plt.plot(r.history['val_loss'],label='val_loss')\r\n",
        "plt.legend()"
      ],
      "execution_count": 9,
      "outputs": [
        {
          "output_type": "execute_result",
          "data": {
            "text/plain": [
              "<matplotlib.legend.Legend at 0x7f76adb77748>"
            ]
          },
          "metadata": {
            "tags": []
          },
          "execution_count": 9
        },
        {
          "output_type": "display_data",
          "data": {
            "image/png": "[encoded data removed]",
            "text/plain": [
              "<Figure size 432x288 with 1 Axes>"
            ]
          },
          "metadata": {
            "tags": [],
            "needs_background": "light"
          }
        }
      ]
    },
    {
      "cell_type": "code",
      "metadata": {
        "colab": {
          "base_uri": "https://localhost:8080/",
          "height": 282
        },
        "id": "pjo5MbDWhgZR",
        "outputId": "ae7ad9dd-3bf3-4a81-9c31-3416132ebfc2"
      },
      "source": [
        "plt.plot(r.history['accuracy'],label='acc')\r\n",
        "plt.plot(r.history['val_accuracy'], label='val_acc')\r\n",
        "plt.legend()"
      ],
      "execution_count": 10,
      "outputs": [
        {
          "output_type": "execute_result",
          "data": {
            "text/plain": [
              "<matplotlib.legend.Legend at 0x7f76ad576ac8>"
            ]
          },
          "metadata": {
            "tags": []
          },
          "execution_count": 10
        },
        {
          "output_type": "display_data",
          "data": {
            "image/png": "[encoded data removed]",
            "text/plain": [
              "<Figure size 432x288 with 1 Axes>"
            ]
          },
          "metadata": {
            "tags": [],
            "needs_background": "light"
          }
        }
      ]
    }
  ]
}