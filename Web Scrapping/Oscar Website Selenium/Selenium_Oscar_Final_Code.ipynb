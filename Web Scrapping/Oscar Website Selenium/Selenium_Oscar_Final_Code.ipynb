{
 "cells": [
  {
   "cell_type": "code",
   "execution_count": 5,
   "metadata": {},
   "outputs": [],
   "source": [
    "import selenium\n",
    "from selenium import webdriver\n",
    "import time\n",
    "from selenium.webdriver.common.by import By\n",
    "from selenium.webdriver.support import expected_conditions as EC\n",
    "from selenium.webdriver.support.ui import WebDriverWait\n"
   ]
  },
  {
   "cell_type": "code",
   "execution_count": 3,
   "metadata": {},
   "outputs": [],
   "source": [
    "#The Chrome web driver needs to be installed from this location \"https://chromedriver.chromium.org/home\"\n",
    "#After that extract the chrome driver\n",
    "#Note that the Chrome driver version and the Chrome web browser version should be the same for this code to work\n",
    "#The Chrome web browser version can be identified by Clicking on \"Settings\" and then \"About Chrome\" \n",
    "\n",
    "PATH='C:\\Program Files (x86)\\chromedriver.exe' #Location where the extracted chrome driver (.exe file) is currently placed\n",
    "driver = webdriver.Chrome(PATH)\n"
   ]
  },
  {
   "cell_type": "code",
   "execution_count": 4,
   "metadata": {},
   "outputs": [],
   "source": [
    "driver.get(\"http://awardsdatabase.oscars.org/\")    #Opens Chrome web browser and loads the awards database website\n",
    "                            #Wait time has been added to take care of any delays in loading the browser page\n",
    "                                #Wait time is mentioned in seconds and can be reduced further to make the code run faster\n",
    "    \n",
    "    \n",
    "wait = WebDriverWait(driver, 10)\n",
    "\n",
    "#Clicking the From year drop down\n",
    "element = wait.until(EC.element_to_be_clickable((By.CSS_SELECTOR, \".row:nth-child(2) > .col-xs-12 .control-multiselect-showyear:nth-child(2) .multiselect\")))\n",
    "element.click()\n",
    "\n",
    "#Clicking on 2010\n",
    "element = wait.until(EC.element_to_be_clickable((By.CSS_SELECTOR, \"input[type='radio'][value='83']\")))\n",
    "element.click()\n",
    "\n",
    "#Clicking the To year drop down\n",
    "element = wait.until(EC.element_to_be_clickable((By.CSS_SELECTOR, \".row:nth-child(2) > .col-xs-12 .control-multiselect-showyear:nth-child(4) .multiselect\")))\n",
    "element.click()\n",
    "\n",
    "#Clicking on 2019: Both the below lines can be used to execute this task\n",
    "#element = wait.until(EC.element_to_be_clickable((By.CSS_SELECTOR, \".open li:nth-child(3) .radio\"))) #Working\n",
    "element = wait.until(EC.element_to_be_clickable((By.PARTIAL_LINK_TEXT, \"2019\"))) #Working\n",
    "element.click()\n",
    "\n",
    "#Clicking on the search button\n",
    "element = wait.until(EC.element_to_be_clickable((By.ID, \"btnbasicsearch\")))\n",
    "element.click()\n",
    "\n",
    "#Searching for and clicking on \"Javier Bardem\"\n",
    "link=wait.until(EC.presence_of_element_located((By.PARTIAL_LINK_TEXT, 'Javier Bardem')))\n",
    "link.click()"
   ]
  }
 ],
 "metadata": {
  "kernelspec": {
   "display_name": "Python 3",
   "language": "python",
   "name": "python3"
  },
  "language_info": {
   "codemirror_mode": {
    "name": "ipython",
    "version": 3
   },
   "file_extension": ".py",
   "mimetype": "text/x-python",
   "name": "python",
   "nbconvert_exporter": "python",
   "pygments_lexer": "ipython3",
   "version": "3.8.5"
  }
 },
 "nbformat": 4,
 "nbformat_minor": 4
}
